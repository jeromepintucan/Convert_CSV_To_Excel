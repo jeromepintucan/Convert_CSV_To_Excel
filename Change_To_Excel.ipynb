{
 "cells": [
  {
   "cell_type": "code",
   "execution_count": 42,
   "metadata": {},
   "outputs": [
    {
     "name": "stdout",
     "output_type": "stream",
     "text": [
      "Error processing C:\\Users\\Jerome Pintucan\\OneDrive - TRANSNATIONAL E-BUSINESS SOLUTIONS INC\\EASYCALL\\EASYCALL\\JUSTKITCHEN\\CHANGE TO CSV\\Transactions0101202401162024.csv: Error tokenizing data. C error: Expected 1 fields in line 3, saw 2\n",
      "\n",
      "Error processing C:\\Users\\Jerome Pintucan\\OneDrive - TRANSNATIONAL E-BUSINESS SOLUTIONS INC\\EASYCALL\\EASYCALL\\JUSTKITCHEN\\CHANGE TO CSV\\Transactions_01-01-2024_01-16-2024.csv: Error tokenizing data. C error: Expected 1 fields in line 3, saw 2\n",
      "\n",
      "Converted C:\\Users\\Jerome Pintucan\\OneDrive - TRANSNATIONAL E-BUSINESS SOLUTIONS INC\\EASYCALL\\EASYCALL\\JUSTKITCHEN\\CHANGE TO CSV\\Transactions_01-17-2024_01-22-2024.csv to Excel successfully.\n",
      "Converted C:\\Users\\Jerome Pintucan\\OneDrive - TRANSNATIONAL E-BUSINESS SOLUTIONS INC\\EASYCALL\\EASYCALL\\JUSTKITCHEN\\CHANGE TO CSV\\Transactions_01-23-2024_01-23-2024.csv to Excel successfully.\n",
      "Converted C:\\Users\\Jerome Pintucan\\OneDrive - TRANSNATIONAL E-BUSINESS SOLUTIONS INC\\EASYCALL\\EASYCALL\\JUSTKITCHEN\\CHANGE TO CSV\\Transactions_01-24-2024_01-24-2024.csv to Excel successfully.\n",
      "Converted C:\\Users\\Jerome Pintucan\\OneDrive - TRANSNATIONAL E-BUSINESS SOLUTIONS INC\\EASYCALL\\EASYCALL\\JUSTKITCHEN\\CHANGE TO CSV\\Transactions_01-25-2024_01-26-2024.csv to Excel successfully.\n",
      "Converted C:\\Users\\Jerome Pintucan\\OneDrive - TRANSNATIONAL E-BUSINESS SOLUTIONS INC\\EASYCALL\\EASYCALL\\JUSTKITCHEN\\CHANGE TO CSV\\Transactions_01-27-2024_01-27-2024.csv to Excel successfully.\n",
      "Converted C:\\Users\\Jerome Pintucan\\OneDrive - TRANSNATIONAL E-BUSINESS SOLUTIONS INC\\EASYCALL\\EASYCALL\\JUSTKITCHEN\\CHANGE TO CSV\\Transactions_01-28-2024_01-31-2024.csv to Excel successfully.\n",
      "Converted C:\\Users\\Jerome Pintucan\\OneDrive - TRANSNATIONAL E-BUSINESS SOLUTIONS INC\\EASYCALL\\EASYCALL\\JUSTKITCHEN\\CHANGE TO CSV\\Transactions_02-01-2024_02-05-2024.csv to Excel successfully.\n",
      "Converted C:\\Users\\Jerome Pintucan\\OneDrive - TRANSNATIONAL E-BUSINESS SOLUTIONS INC\\EASYCALL\\EASYCALL\\JUSTKITCHEN\\CHANGE TO CSV\\Transactions_06-01-2023_06-30-2023.csv to Excel successfully.\n",
      "Converted C:\\Users\\Jerome Pintucan\\OneDrive - TRANSNATIONAL E-BUSINESS SOLUTIONS INC\\EASYCALL\\EASYCALL\\JUSTKITCHEN\\CHANGE TO CSV\\Transactions_07-01-2023_07-31-2023.csv to Excel successfully.\n",
      "Converted C:\\Users\\Jerome Pintucan\\OneDrive - TRANSNATIONAL E-BUSINESS SOLUTIONS INC\\EASYCALL\\EASYCALL\\JUSTKITCHEN\\CHANGE TO CSV\\Transactions_08-01-2023_08-31-2023.csv to Excel successfully.\n",
      "Converted C:\\Users\\Jerome Pintucan\\OneDrive - TRANSNATIONAL E-BUSINESS SOLUTIONS INC\\EASYCALL\\EASYCALL\\JUSTKITCHEN\\CHANGE TO CSV\\Transactions_09-01-2023_09-30-2023.csv to Excel successfully.\n",
      "Converted C:\\Users\\Jerome Pintucan\\OneDrive - TRANSNATIONAL E-BUSINESS SOLUTIONS INC\\EASYCALL\\EASYCALL\\JUSTKITCHEN\\CHANGE TO CSV\\Transactions_10-01-2023_10-31-2023.csv to Excel successfully.\n",
      "Converted C:\\Users\\Jerome Pintucan\\OneDrive - TRANSNATIONAL E-BUSINESS SOLUTIONS INC\\EASYCALL\\EASYCALL\\JUSTKITCHEN\\CHANGE TO CSV\\Transactions_11-01-2023_11-30-2023.csv to Excel successfully.\n",
      "Converted C:\\Users\\Jerome Pintucan\\OneDrive - TRANSNATIONAL E-BUSINESS SOLUTIONS INC\\EASYCALL\\EASYCALL\\JUSTKITCHEN\\CHANGE TO CSV\\Transactions_12-01-2023_12-26-2023.csv to Excel successfully.\n",
      "Error processing C:\\Users\\Jerome Pintucan\\OneDrive - TRANSNATIONAL E-BUSINESS SOLUTIONS INC\\EASYCALL\\EASYCALL\\JUSTKITCHEN\\CHANGE TO CSV\\Transactions_12-27-2023_12-31-2023.csv: Error tokenizing data. C error: Expected 1 fields in line 3, saw 2\n",
      "\n"
     ]
    }
   ],
   "source": [
    "import os\n",
    "import pandas as pd\n",
    "\n",
    "# def change_to_excel(file_path):\n",
    "#     df = pd.read_csv(file_path, encoding=\"utf-8\")\n",
    "    \n",
    "#     df.to_excel(file_path, index=False, sheet_name='Transactions')\n",
    "\n",
    "def change_to_excel(file_path):\n",
    "    try:\n",
    "        df = pd.read_csv(file_path, encoding=\"utf-8\")\n",
    "        df.to_excel(file_path[:-4] + '.xlsx', index=False, sheet_name='Transactions')\n",
    "        print(f\"Converted {file_path} to Excel successfully.\")\n",
    "    except Exception as e:\n",
    "        print(f\"Error processing {file_path}: {str(e)}\")\n",
    "\n",
    "\n",
    "\n",
    "def process_excel_files(folder_path):\n",
    "    files = os.listdir(folder_path)\n",
    "    \n",
    "    for file in files:\n",
    "        if file.endswith('.csv'):\n",
    "            file_path = os.path.join(folder_path, file)\n",
    "            \n",
    "            change_to_excel(file_path)\n",
    "\n",
    "folder_path = r'C:\\Users\\Jerome Pintucan\\OneDrive - TRANSNATIONAL E-BUSINESS SOLUTIONS INC\\EASYCALL\\EASYCALL\\JUSTKITCHEN\\CHANGE TO CSV'\n",
    "process_excel_files(folder_path)\n"
   ]
  },
  {
   "cell_type": "code",
   "execution_count": 41,
   "metadata": {},
   "outputs": [
    {
     "data": {
      "text/plain": [
       "['CHANGED TO EXCEL',\n",
       " 'Change_To_Excel.ipynb',\n",
       " 'OneDrive_2024-02-08',\n",
       " 'OneDrive_2024-02-08.zip',\n",
       " 'test.ipynb',\n",
       " 'Transactions0101202401162024.csv',\n",
       " 'Transactions_01-01-2024_01-16-2024.csv',\n",
       " 'Transactions_01-17-2024_01-22-2024.csv',\n",
       " 'Transactions_01-23-2024_01-23-2024.csv',\n",
       " 'Transactions_01-24-2024_01-24-2024.csv',\n",
       " 'Transactions_01-25-2024_01-26-2024.csv',\n",
       " 'Transactions_01-27-2024_01-27-2024.csv',\n",
       " 'Transactions_01-28-2024_01-31-2024.csv',\n",
       " 'Transactions_02-01-2024_02-05-2024.csv',\n",
       " 'Transactions_06-01-2023_06-30-2023.csv',\n",
       " 'Transactions_07-01-2023_07-31-2023.csv',\n",
       " 'Transactions_08-01-2023_08-31-2023.csv',\n",
       " 'Transactions_09-01-2023_09-30-2023.csv',\n",
       " 'Transactions_10-01-2023_10-31-2023.csv',\n",
       " 'Transactions_11-01-2023_11-30-2023.csv',\n",
       " 'Transactions_12-01-2023_12-26-2023.csv',\n",
       " 'Transactions_12-27-2023_12-31-2023.csv']"
      ]
     },
     "execution_count": 41,
     "metadata": {},
     "output_type": "execute_result"
    }
   ],
   "source": [
    "os.listdir(folder_path)"
   ]
  },
  {
   "cell_type": "code",
   "execution_count": 26,
   "metadata": {},
   "outputs": [
    {
     "ename": "UnicodeDecodeError",
     "evalue": "'utf-8' codec can't decode byte 0xc0 in position 15: invalid start byte",
     "output_type": "error",
     "traceback": [
      "\u001b[1;31m---------------------------------------------------------------------------\u001b[0m",
      "\u001b[1;31mUnicodeDecodeError\u001b[0m                        Traceback (most recent call last)",
      "Cell \u001b[1;32mIn[26], line 22\u001b[0m\n\u001b[0;32m     18\u001b[0m         writer\u001b[38;5;241m.\u001b[39msave()\n\u001b[0;32m     20\u001b[0m folder_path \u001b[38;5;241m=\u001b[39m \u001b[38;5;124m'\u001b[39m\u001b[38;5;124mC:\u001b[39m\u001b[38;5;130;01m\\\\\u001b[39;00m\u001b[38;5;124mUsers\u001b[39m\u001b[38;5;130;01m\\\\\u001b[39;00m\u001b[38;5;124mJerome Pintucan\u001b[39m\u001b[38;5;130;01m\\\\\u001b[39;00m\u001b[38;5;124mOneDrive - TRANSNATIONAL E-BUSINESS SOLUTIONS INC\u001b[39m\u001b[38;5;130;01m\\\\\u001b[39;00m\u001b[38;5;124mEASYCALL\u001b[39m\u001b[38;5;130;01m\\\\\u001b[39;00m\u001b[38;5;124mEASYCALL\u001b[39m\u001b[38;5;130;01m\\\\\u001b[39;00m\u001b[38;5;124mJUSTKITCHEN\u001b[39m\u001b[38;5;130;01m\\\\\u001b[39;00m\u001b[38;5;124mCHANGE TO CSV\u001b[39m\u001b[38;5;124m'\u001b[39m\n\u001b[1;32m---> 22\u001b[0m \u001b[43mconvert_csv_to_excel\u001b[49m\u001b[43m(\u001b[49m\u001b[43mfolder_path\u001b[49m\u001b[43m)\u001b[49m\n",
      "Cell \u001b[1;32mIn[26], line 8\u001b[0m, in \u001b[0;36mconvert_csv_to_excel\u001b[1;34m(folder_path)\u001b[0m\n\u001b[0;32m      5\u001b[0m csv_files \u001b[38;5;241m=\u001b[39m [file \u001b[38;5;28;01mfor\u001b[39;00m file \u001b[38;5;129;01min\u001b[39;00m os\u001b[38;5;241m.\u001b[39mlistdir(folder_path) \u001b[38;5;28;01mif\u001b[39;00m file\u001b[38;5;241m.\u001b[39mendswith(\u001b[38;5;124m'\u001b[39m\u001b[38;5;124m.csv\u001b[39m\u001b[38;5;124m'\u001b[39m)]\n\u001b[0;32m      7\u001b[0m \u001b[38;5;28;01mfor\u001b[39;00m csv_file \u001b[38;5;129;01min\u001b[39;00m csv_files:\n\u001b[1;32m----> 8\u001b[0m     df \u001b[38;5;241m=\u001b[39m \u001b[43mpd\u001b[49m\u001b[38;5;241;43m.\u001b[39;49m\u001b[43mread_csv\u001b[49m\u001b[43m(\u001b[49m\u001b[43mos\u001b[49m\u001b[38;5;241;43m.\u001b[39;49m\u001b[43mpath\u001b[49m\u001b[38;5;241;43m.\u001b[39;49m\u001b[43mjoin\u001b[49m\u001b[43m(\u001b[49m\u001b[43mfolder_path\u001b[49m\u001b[43m,\u001b[49m\u001b[43m \u001b[49m\u001b[43mcsv_file\u001b[49m\u001b[43m)\u001b[49m\u001b[43m,\u001b[49m\u001b[43m \u001b[49m\u001b[43mencoding\u001b[49m\u001b[38;5;241;43m=\u001b[39;49m\u001b[38;5;124;43m'\u001b[39;49m\u001b[38;5;124;43mutf_8_sig\u001b[39;49m\u001b[38;5;124;43m'\u001b[39;49m\u001b[43m)\u001b[49m\n\u001b[0;32m     11\u001b[0m     excel_file \u001b[38;5;241m=\u001b[39m os\u001b[38;5;241m.\u001b[39mpath\u001b[38;5;241m.\u001b[39msplitext(csv_file)[\u001b[38;5;241m0\u001b[39m] \u001b[38;5;241m+\u001b[39m \u001b[38;5;124m'\u001b[39m\u001b[38;5;124m.xlsx\u001b[39m\u001b[38;5;124m'\u001b[39m\n\u001b[0;32m     12\u001b[0m     writer \u001b[38;5;241m=\u001b[39m pd\u001b[38;5;241m.\u001b[39mExcelWriter(os\u001b[38;5;241m.\u001b[39mpath\u001b[38;5;241m.\u001b[39mjoin(folder_path, excel_file), engine\u001b[38;5;241m=\u001b[39m\u001b[38;5;124m'\u001b[39m\u001b[38;5;124mxlsxwriter\u001b[39m\u001b[38;5;124m'\u001b[39m)\n",
      "File \u001b[1;32mc:\\Users\\Jerome Pintucan\\AppData\\Local\\Programs\\Python\\Python311\\Lib\\site-packages\\pandas\\io\\parsers\\readers.py:912\u001b[0m, in \u001b[0;36mread_csv\u001b[1;34m(filepath_or_buffer, sep, delimiter, header, names, index_col, usecols, dtype, engine, converters, true_values, false_values, skipinitialspace, skiprows, skipfooter, nrows, na_values, keep_default_na, na_filter, verbose, skip_blank_lines, parse_dates, infer_datetime_format, keep_date_col, date_parser, date_format, dayfirst, cache_dates, iterator, chunksize, compression, thousands, decimal, lineterminator, quotechar, quoting, doublequote, escapechar, comment, encoding, encoding_errors, dialect, on_bad_lines, delim_whitespace, low_memory, memory_map, float_precision, storage_options, dtype_backend)\u001b[0m\n\u001b[0;32m    899\u001b[0m kwds_defaults \u001b[38;5;241m=\u001b[39m _refine_defaults_read(\n\u001b[0;32m    900\u001b[0m     dialect,\n\u001b[0;32m    901\u001b[0m     delimiter,\n\u001b[1;32m   (...)\u001b[0m\n\u001b[0;32m    908\u001b[0m     dtype_backend\u001b[38;5;241m=\u001b[39mdtype_backend,\n\u001b[0;32m    909\u001b[0m )\n\u001b[0;32m    910\u001b[0m kwds\u001b[38;5;241m.\u001b[39mupdate(kwds_defaults)\n\u001b[1;32m--> 912\u001b[0m \u001b[38;5;28;01mreturn\u001b[39;00m \u001b[43m_read\u001b[49m\u001b[43m(\u001b[49m\u001b[43mfilepath_or_buffer\u001b[49m\u001b[43m,\u001b[49m\u001b[43m \u001b[49m\u001b[43mkwds\u001b[49m\u001b[43m)\u001b[49m\n",
      "File \u001b[1;32mc:\\Users\\Jerome Pintucan\\AppData\\Local\\Programs\\Python\\Python311\\Lib\\site-packages\\pandas\\io\\parsers\\readers.py:577\u001b[0m, in \u001b[0;36m_read\u001b[1;34m(filepath_or_buffer, kwds)\u001b[0m\n\u001b[0;32m    574\u001b[0m _validate_names(kwds\u001b[38;5;241m.\u001b[39mget(\u001b[38;5;124m\"\u001b[39m\u001b[38;5;124mnames\u001b[39m\u001b[38;5;124m\"\u001b[39m, \u001b[38;5;28;01mNone\u001b[39;00m))\n\u001b[0;32m    576\u001b[0m \u001b[38;5;66;03m# Create the parser.\u001b[39;00m\n\u001b[1;32m--> 577\u001b[0m parser \u001b[38;5;241m=\u001b[39m \u001b[43mTextFileReader\u001b[49m\u001b[43m(\u001b[49m\u001b[43mfilepath_or_buffer\u001b[49m\u001b[43m,\u001b[49m\u001b[43m \u001b[49m\u001b[38;5;241;43m*\u001b[39;49m\u001b[38;5;241;43m*\u001b[39;49m\u001b[43mkwds\u001b[49m\u001b[43m)\u001b[49m\n\u001b[0;32m    579\u001b[0m \u001b[38;5;28;01mif\u001b[39;00m chunksize \u001b[38;5;129;01mor\u001b[39;00m iterator:\n\u001b[0;32m    580\u001b[0m     \u001b[38;5;28;01mreturn\u001b[39;00m parser\n",
      "File \u001b[1;32mc:\\Users\\Jerome Pintucan\\AppData\\Local\\Programs\\Python\\Python311\\Lib\\site-packages\\pandas\\io\\parsers\\readers.py:1407\u001b[0m, in \u001b[0;36mTextFileReader.__init__\u001b[1;34m(self, f, engine, **kwds)\u001b[0m\n\u001b[0;32m   1404\u001b[0m     \u001b[38;5;28mself\u001b[39m\u001b[38;5;241m.\u001b[39moptions[\u001b[38;5;124m\"\u001b[39m\u001b[38;5;124mhas_index_names\u001b[39m\u001b[38;5;124m\"\u001b[39m] \u001b[38;5;241m=\u001b[39m kwds[\u001b[38;5;124m\"\u001b[39m\u001b[38;5;124mhas_index_names\u001b[39m\u001b[38;5;124m\"\u001b[39m]\n\u001b[0;32m   1406\u001b[0m \u001b[38;5;28mself\u001b[39m\u001b[38;5;241m.\u001b[39mhandles: IOHandles \u001b[38;5;241m|\u001b[39m \u001b[38;5;28;01mNone\u001b[39;00m \u001b[38;5;241m=\u001b[39m \u001b[38;5;28;01mNone\u001b[39;00m\n\u001b[1;32m-> 1407\u001b[0m \u001b[38;5;28mself\u001b[39m\u001b[38;5;241m.\u001b[39m_engine \u001b[38;5;241m=\u001b[39m \u001b[38;5;28;43mself\u001b[39;49m\u001b[38;5;241;43m.\u001b[39;49m\u001b[43m_make_engine\u001b[49m\u001b[43m(\u001b[49m\u001b[43mf\u001b[49m\u001b[43m,\u001b[49m\u001b[43m \u001b[49m\u001b[38;5;28;43mself\u001b[39;49m\u001b[38;5;241;43m.\u001b[39;49m\u001b[43mengine\u001b[49m\u001b[43m)\u001b[49m\n",
      "File \u001b[1;32mc:\\Users\\Jerome Pintucan\\AppData\\Local\\Programs\\Python\\Python311\\Lib\\site-packages\\pandas\\io\\parsers\\readers.py:1679\u001b[0m, in \u001b[0;36mTextFileReader._make_engine\u001b[1;34m(self, f, engine)\u001b[0m\n\u001b[0;32m   1676\u001b[0m     \u001b[38;5;28;01mraise\u001b[39;00m \u001b[38;5;167;01mValueError\u001b[39;00m(msg)\n\u001b[0;32m   1678\u001b[0m \u001b[38;5;28;01mtry\u001b[39;00m:\n\u001b[1;32m-> 1679\u001b[0m     \u001b[38;5;28;01mreturn\u001b[39;00m \u001b[43mmapping\u001b[49m\u001b[43m[\u001b[49m\u001b[43mengine\u001b[49m\u001b[43m]\u001b[49m\u001b[43m(\u001b[49m\u001b[43mf\u001b[49m\u001b[43m,\u001b[49m\u001b[43m \u001b[49m\u001b[38;5;241;43m*\u001b[39;49m\u001b[38;5;241;43m*\u001b[39;49m\u001b[38;5;28;43mself\u001b[39;49m\u001b[38;5;241;43m.\u001b[39;49m\u001b[43moptions\u001b[49m\u001b[43m)\u001b[49m\n\u001b[0;32m   1680\u001b[0m \u001b[38;5;28;01mexcept\u001b[39;00m \u001b[38;5;167;01mException\u001b[39;00m:\n\u001b[0;32m   1681\u001b[0m     \u001b[38;5;28;01mif\u001b[39;00m \u001b[38;5;28mself\u001b[39m\u001b[38;5;241m.\u001b[39mhandles \u001b[38;5;129;01mis\u001b[39;00m \u001b[38;5;129;01mnot\u001b[39;00m \u001b[38;5;28;01mNone\u001b[39;00m:\n",
      "File \u001b[1;32mc:\\Users\\Jerome Pintucan\\AppData\\Local\\Programs\\Python\\Python311\\Lib\\site-packages\\pandas\\io\\parsers\\c_parser_wrapper.py:93\u001b[0m, in \u001b[0;36mCParserWrapper.__init__\u001b[1;34m(self, src, **kwds)\u001b[0m\n\u001b[0;32m     90\u001b[0m \u001b[38;5;28;01mif\u001b[39;00m kwds[\u001b[38;5;124m\"\u001b[39m\u001b[38;5;124mdtype_backend\u001b[39m\u001b[38;5;124m\"\u001b[39m] \u001b[38;5;241m==\u001b[39m \u001b[38;5;124m\"\u001b[39m\u001b[38;5;124mpyarrow\u001b[39m\u001b[38;5;124m\"\u001b[39m:\n\u001b[0;32m     91\u001b[0m     \u001b[38;5;66;03m# Fail here loudly instead of in cython after reading\u001b[39;00m\n\u001b[0;32m     92\u001b[0m     import_optional_dependency(\u001b[38;5;124m\"\u001b[39m\u001b[38;5;124mpyarrow\u001b[39m\u001b[38;5;124m\"\u001b[39m)\n\u001b[1;32m---> 93\u001b[0m \u001b[38;5;28mself\u001b[39m\u001b[38;5;241m.\u001b[39m_reader \u001b[38;5;241m=\u001b[39m \u001b[43mparsers\u001b[49m\u001b[38;5;241;43m.\u001b[39;49m\u001b[43mTextReader\u001b[49m\u001b[43m(\u001b[49m\u001b[43msrc\u001b[49m\u001b[43m,\u001b[49m\u001b[43m \u001b[49m\u001b[38;5;241;43m*\u001b[39;49m\u001b[38;5;241;43m*\u001b[39;49m\u001b[43mkwds\u001b[49m\u001b[43m)\u001b[49m\n\u001b[0;32m     95\u001b[0m \u001b[38;5;28mself\u001b[39m\u001b[38;5;241m.\u001b[39munnamed_cols \u001b[38;5;241m=\u001b[39m \u001b[38;5;28mself\u001b[39m\u001b[38;5;241m.\u001b[39m_reader\u001b[38;5;241m.\u001b[39munnamed_cols\n\u001b[0;32m     97\u001b[0m \u001b[38;5;66;03m# error: Cannot determine type of 'names'\u001b[39;00m\n",
      "File \u001b[1;32mc:\\Users\\Jerome Pintucan\\AppData\\Local\\Programs\\Python\\Python311\\Lib\\site-packages\\pandas\\_libs\\parsers.pyx:548\u001b[0m, in \u001b[0;36mpandas._libs.parsers.TextReader.__cinit__\u001b[1;34m()\u001b[0m\n",
      "File \u001b[1;32mc:\\Users\\Jerome Pintucan\\AppData\\Local\\Programs\\Python\\Python311\\Lib\\site-packages\\pandas\\_libs\\parsers.pyx:637\u001b[0m, in \u001b[0;36mpandas._libs.parsers.TextReader._get_header\u001b[1;34m()\u001b[0m\n",
      "File \u001b[1;32mc:\\Users\\Jerome Pintucan\\AppData\\Local\\Programs\\Python\\Python311\\Lib\\site-packages\\pandas\\_libs\\parsers.pyx:848\u001b[0m, in \u001b[0;36mpandas._libs.parsers.TextReader._tokenize_rows\u001b[1;34m()\u001b[0m\n",
      "File \u001b[1;32mc:\\Users\\Jerome Pintucan\\AppData\\Local\\Programs\\Python\\Python311\\Lib\\site-packages\\pandas\\_libs\\parsers.pyx:859\u001b[0m, in \u001b[0;36mpandas._libs.parsers.TextReader._check_tokenize_status\u001b[1;34m()\u001b[0m\n",
      "File \u001b[1;32mc:\\Users\\Jerome Pintucan\\AppData\\Local\\Programs\\Python\\Python311\\Lib\\site-packages\\pandas\\_libs\\parsers.pyx:2017\u001b[0m, in \u001b[0;36mpandas._libs.parsers.raise_parser_error\u001b[1;34m()\u001b[0m\n",
      "\u001b[1;31mUnicodeDecodeError\u001b[0m: 'utf-8' codec can't decode byte 0xc0 in position 15: invalid start byte"
     ]
    }
   ],
   "source": [
    "import pandas as pd\n",
    "import os\n",
    "\n",
    "def convert_csv_to_excel(folder_path):\n",
    "    csv_files = [file for file in os.listdir(folder_path) if file.endswith('.csv')]\n",
    "    \n",
    "    for csv_file in csv_files:\n",
    "        df = pd.read_csv(os.path.join(folder_path, csv_file), encoding='utf_8_sig')\n",
    "        \n",
    "        \n",
    "        excel_file = os.path.splitext(csv_file)[0] + '.xlsx'\n",
    "        writer = pd.ExcelWriter(os.path.join(folder_path, excel_file), engine='xlsxwriter')\n",
    "        \n",
    "        \n",
    "        df.to_excel(writer, sheet_name='Transactions', index=False)\n",
    "        \n",
    "        \n",
    "        writer.save()\n",
    "\n",
    "folder_path = 'C:\\\\Users\\\\Jerome Pintucan\\\\OneDrive - TRANSNATIONAL E-BUSINESS SOLUTIONS INC\\\\EASYCALL\\\\EASYCALL\\\\JUSTKITCHEN\\\\CHANGE TO CSV'\n",
    "\n",
    "convert_csv_to_excel(folder_path)\n"
   ]
  },
  {
   "cell_type": "code",
   "execution_count": 43,
   "metadata": {},
   "outputs": [
    {
     "ename": "ParserError",
     "evalue": "Error tokenizing data. C error: Expected 1 fields in line 3, saw 2\n",
     "output_type": "error",
     "traceback": [
      "\u001b[1;31m---------------------------------------------------------------------------\u001b[0m",
      "\u001b[1;31mParserError\u001b[0m                               Traceback (most recent call last)",
      "Cell \u001b[1;32mIn[43], line 23\u001b[0m\n\u001b[0;32m     20\u001b[0m input_folder \u001b[38;5;241m=\u001b[39m \u001b[38;5;124mr\u001b[39m\u001b[38;5;124m'\u001b[39m\u001b[38;5;124mC:\u001b[39m\u001b[38;5;124m\\\u001b[39m\u001b[38;5;124mUsers\u001b[39m\u001b[38;5;124m\\\u001b[39m\u001b[38;5;124mJerome Pintucan\u001b[39m\u001b[38;5;124m\\\u001b[39m\u001b[38;5;124mOneDrive - TRANSNATIONAL E-BUSINESS SOLUTIONS INC\u001b[39m\u001b[38;5;124m\\\u001b[39m\u001b[38;5;124mEASYCALL\u001b[39m\u001b[38;5;124m\\\u001b[39m\u001b[38;5;124mEASYCALL\u001b[39m\u001b[38;5;124m\\\u001b[39m\u001b[38;5;124mJUSTKITCHEN\u001b[39m\u001b[38;5;124m\\\u001b[39m\u001b[38;5;124mCHANGE TO CSV\u001b[39m\u001b[38;5;124m'\u001b[39m\n\u001b[0;32m     21\u001b[0m output_folder \u001b[38;5;241m=\u001b[39m \u001b[38;5;124mr\u001b[39m\u001b[38;5;124m'\u001b[39m\u001b[38;5;124mC:\u001b[39m\u001b[38;5;124m\\\u001b[39m\u001b[38;5;124mUsers\u001b[39m\u001b[38;5;124m\\\u001b[39m\u001b[38;5;124mJerome Pintucan\u001b[39m\u001b[38;5;124m\\\u001b[39m\u001b[38;5;124mOneDrive - TRANSNATIONAL E-BUSINESS SOLUTIONS INC\u001b[39m\u001b[38;5;124m\\\u001b[39m\u001b[38;5;124mEASYCALL\u001b[39m\u001b[38;5;124m\\\u001b[39m\u001b[38;5;124mEASYCALL\u001b[39m\u001b[38;5;124m\\\u001b[39m\u001b[38;5;124mJUSTKITCHEN\u001b[39m\u001b[38;5;124m\\\u001b[39m\u001b[38;5;124mCSV Converted to Excel\u001b[39m\u001b[38;5;124m'\u001b[39m\n\u001b[1;32m---> 23\u001b[0m \u001b[43mprocess_excel_files\u001b[49m\u001b[43m(\u001b[49m\u001b[43minput_folder\u001b[49m\u001b[43m,\u001b[49m\u001b[43m \u001b[49m\u001b[43moutput_folder\u001b[49m\u001b[43m)\u001b[49m\n",
      "Cell \u001b[1;32mIn[43], line 18\u001b[0m, in \u001b[0;36mprocess_excel_files\u001b[1;34m(input_folder, output_folder)\u001b[0m\n\u001b[0;32m     16\u001b[0m \u001b[38;5;28;01mif\u001b[39;00m file\u001b[38;5;241m.\u001b[39mendswith(\u001b[38;5;124m'\u001b[39m\u001b[38;5;124m.csv\u001b[39m\u001b[38;5;124m'\u001b[39m):\n\u001b[0;32m     17\u001b[0m     input_file_path \u001b[38;5;241m=\u001b[39m os\u001b[38;5;241m.\u001b[39mpath\u001b[38;5;241m.\u001b[39mjoin(input_folder, file)\n\u001b[1;32m---> 18\u001b[0m     \u001b[43mchange_to_excel\u001b[49m\u001b[43m(\u001b[49m\u001b[43minput_file_path\u001b[49m\u001b[43m,\u001b[49m\u001b[43m \u001b[49m\u001b[43moutput_folder\u001b[49m\u001b[43m)\u001b[49m\n",
      "Cell \u001b[1;32mIn[43], line 5\u001b[0m, in \u001b[0;36mchange_to_excel\u001b[1;34m(input_file_path, output_folder)\u001b[0m\n\u001b[0;32m      4\u001b[0m \u001b[38;5;28;01mdef\u001b[39;00m \u001b[38;5;21mchange_to_excel\u001b[39m(input_file_path, output_folder):\n\u001b[1;32m----> 5\u001b[0m     df \u001b[38;5;241m=\u001b[39m \u001b[43mpd\u001b[49m\u001b[38;5;241;43m.\u001b[39;49m\u001b[43mread_csv\u001b[49m\u001b[43m(\u001b[49m\u001b[43minput_file_path\u001b[49m\u001b[43m,\u001b[49m\u001b[43m \u001b[49m\u001b[43mencoding\u001b[49m\u001b[38;5;241;43m=\u001b[39;49m\u001b[38;5;124;43m\"\u001b[39;49m\u001b[38;5;124;43mutf-8\u001b[39;49m\u001b[38;5;124;43m\"\u001b[39;49m\u001b[43m)\u001b[49m\n\u001b[0;32m      6\u001b[0m     output_file_path \u001b[38;5;241m=\u001b[39m os\u001b[38;5;241m.\u001b[39mpath\u001b[38;5;241m.\u001b[39mjoin(output_folder, os\u001b[38;5;241m.\u001b[39mpath\u001b[38;5;241m.\u001b[39mbasename(input_file_path)[:\u001b[38;5;241m-\u001b[39m\u001b[38;5;241m4\u001b[39m] \u001b[38;5;241m+\u001b[39m \u001b[38;5;124m'\u001b[39m\u001b[38;5;124m.xlsx\u001b[39m\u001b[38;5;124m'\u001b[39m)\n\u001b[0;32m      7\u001b[0m     df\u001b[38;5;241m.\u001b[39mto_excel(output_file_path, index\u001b[38;5;241m=\u001b[39m\u001b[38;5;28;01mFalse\u001b[39;00m, sheet_name\u001b[38;5;241m=\u001b[39m\u001b[38;5;124m'\u001b[39m\u001b[38;5;124mTransactions\u001b[39m\u001b[38;5;124m'\u001b[39m)\n",
      "File \u001b[1;32mc:\\Users\\Jerome Pintucan\\AppData\\Local\\Programs\\Python\\Python311\\Lib\\site-packages\\pandas\\io\\parsers\\readers.py:912\u001b[0m, in \u001b[0;36mread_csv\u001b[1;34m(filepath_or_buffer, sep, delimiter, header, names, index_col, usecols, dtype, engine, converters, true_values, false_values, skipinitialspace, skiprows, skipfooter, nrows, na_values, keep_default_na, na_filter, verbose, skip_blank_lines, parse_dates, infer_datetime_format, keep_date_col, date_parser, date_format, dayfirst, cache_dates, iterator, chunksize, compression, thousands, decimal, lineterminator, quotechar, quoting, doublequote, escapechar, comment, encoding, encoding_errors, dialect, on_bad_lines, delim_whitespace, low_memory, memory_map, float_precision, storage_options, dtype_backend)\u001b[0m\n\u001b[0;32m    899\u001b[0m kwds_defaults \u001b[38;5;241m=\u001b[39m _refine_defaults_read(\n\u001b[0;32m    900\u001b[0m     dialect,\n\u001b[0;32m    901\u001b[0m     delimiter,\n\u001b[1;32m   (...)\u001b[0m\n\u001b[0;32m    908\u001b[0m     dtype_backend\u001b[38;5;241m=\u001b[39mdtype_backend,\n\u001b[0;32m    909\u001b[0m )\n\u001b[0;32m    910\u001b[0m kwds\u001b[38;5;241m.\u001b[39mupdate(kwds_defaults)\n\u001b[1;32m--> 912\u001b[0m \u001b[38;5;28;01mreturn\u001b[39;00m \u001b[43m_read\u001b[49m\u001b[43m(\u001b[49m\u001b[43mfilepath_or_buffer\u001b[49m\u001b[43m,\u001b[49m\u001b[43m \u001b[49m\u001b[43mkwds\u001b[49m\u001b[43m)\u001b[49m\n",
      "File \u001b[1;32mc:\\Users\\Jerome Pintucan\\AppData\\Local\\Programs\\Python\\Python311\\Lib\\site-packages\\pandas\\io\\parsers\\readers.py:583\u001b[0m, in \u001b[0;36m_read\u001b[1;34m(filepath_or_buffer, kwds)\u001b[0m\n\u001b[0;32m    580\u001b[0m     \u001b[38;5;28;01mreturn\u001b[39;00m parser\n\u001b[0;32m    582\u001b[0m \u001b[38;5;28;01mwith\u001b[39;00m parser:\n\u001b[1;32m--> 583\u001b[0m     \u001b[38;5;28;01mreturn\u001b[39;00m \u001b[43mparser\u001b[49m\u001b[38;5;241;43m.\u001b[39;49m\u001b[43mread\u001b[49m\u001b[43m(\u001b[49m\u001b[43mnrows\u001b[49m\u001b[43m)\u001b[49m\n",
      "File \u001b[1;32mc:\\Users\\Jerome Pintucan\\AppData\\Local\\Programs\\Python\\Python311\\Lib\\site-packages\\pandas\\io\\parsers\\readers.py:1704\u001b[0m, in \u001b[0;36mTextFileReader.read\u001b[1;34m(self, nrows)\u001b[0m\n\u001b[0;32m   1697\u001b[0m nrows \u001b[38;5;241m=\u001b[39m validate_integer(\u001b[38;5;124m\"\u001b[39m\u001b[38;5;124mnrows\u001b[39m\u001b[38;5;124m\"\u001b[39m, nrows)\n\u001b[0;32m   1698\u001b[0m \u001b[38;5;28;01mtry\u001b[39;00m:\n\u001b[0;32m   1699\u001b[0m     \u001b[38;5;66;03m# error: \"ParserBase\" has no attribute \"read\"\u001b[39;00m\n\u001b[0;32m   1700\u001b[0m     (\n\u001b[0;32m   1701\u001b[0m         index,\n\u001b[0;32m   1702\u001b[0m         columns,\n\u001b[0;32m   1703\u001b[0m         col_dict,\n\u001b[1;32m-> 1704\u001b[0m     ) \u001b[38;5;241m=\u001b[39m \u001b[38;5;28;43mself\u001b[39;49m\u001b[38;5;241;43m.\u001b[39;49m\u001b[43m_engine\u001b[49m\u001b[38;5;241;43m.\u001b[39;49m\u001b[43mread\u001b[49m\u001b[43m(\u001b[49m\u001b[43m  \u001b[49m\u001b[38;5;66;43;03m# type: ignore[attr-defined]\u001b[39;49;00m\n\u001b[0;32m   1705\u001b[0m \u001b[43m        \u001b[49m\u001b[43mnrows\u001b[49m\n\u001b[0;32m   1706\u001b[0m \u001b[43m    \u001b[49m\u001b[43m)\u001b[49m\n\u001b[0;32m   1707\u001b[0m \u001b[38;5;28;01mexcept\u001b[39;00m \u001b[38;5;167;01mException\u001b[39;00m:\n\u001b[0;32m   1708\u001b[0m     \u001b[38;5;28mself\u001b[39m\u001b[38;5;241m.\u001b[39mclose()\n",
      "File \u001b[1;32mc:\\Users\\Jerome Pintucan\\AppData\\Local\\Programs\\Python\\Python311\\Lib\\site-packages\\pandas\\io\\parsers\\c_parser_wrapper.py:234\u001b[0m, in \u001b[0;36mCParserWrapper.read\u001b[1;34m(self, nrows)\u001b[0m\n\u001b[0;32m    232\u001b[0m \u001b[38;5;28;01mtry\u001b[39;00m:\n\u001b[0;32m    233\u001b[0m     \u001b[38;5;28;01mif\u001b[39;00m \u001b[38;5;28mself\u001b[39m\u001b[38;5;241m.\u001b[39mlow_memory:\n\u001b[1;32m--> 234\u001b[0m         chunks \u001b[38;5;241m=\u001b[39m \u001b[38;5;28mself\u001b[39m\u001b[38;5;241m.\u001b[39m_reader\u001b[38;5;241m.\u001b[39mread_low_memory(nrows)\n\u001b[0;32m    235\u001b[0m         \u001b[38;5;66;03m# destructive to chunks\u001b[39;00m\n\u001b[0;32m    236\u001b[0m         data \u001b[38;5;241m=\u001b[39m _concatenate_chunks(chunks)\n",
      "File \u001b[1;32mc:\\Users\\Jerome Pintucan\\AppData\\Local\\Programs\\Python\\Python311\\Lib\\site-packages\\pandas\\_libs\\parsers.pyx:812\u001b[0m, in \u001b[0;36mpandas._libs.parsers.TextReader.read_low_memory\u001b[1;34m()\u001b[0m\n",
      "File \u001b[1;32mc:\\Users\\Jerome Pintucan\\AppData\\Local\\Programs\\Python\\Python311\\Lib\\site-packages\\pandas\\_libs\\parsers.pyx:873\u001b[0m, in \u001b[0;36mpandas._libs.parsers.TextReader._read_rows\u001b[1;34m()\u001b[0m\n",
      "File \u001b[1;32mc:\\Users\\Jerome Pintucan\\AppData\\Local\\Programs\\Python\\Python311\\Lib\\site-packages\\pandas\\_libs\\parsers.pyx:848\u001b[0m, in \u001b[0;36mpandas._libs.parsers.TextReader._tokenize_rows\u001b[1;34m()\u001b[0m\n",
      "File \u001b[1;32mc:\\Users\\Jerome Pintucan\\AppData\\Local\\Programs\\Python\\Python311\\Lib\\site-packages\\pandas\\_libs\\parsers.pyx:859\u001b[0m, in \u001b[0;36mpandas._libs.parsers.TextReader._check_tokenize_status\u001b[1;34m()\u001b[0m\n",
      "File \u001b[1;32mc:\\Users\\Jerome Pintucan\\AppData\\Local\\Programs\\Python\\Python311\\Lib\\site-packages\\pandas\\_libs\\parsers.pyx:2025\u001b[0m, in \u001b[0;36mpandas._libs.parsers.raise_parser_error\u001b[1;34m()\u001b[0m\n",
      "\u001b[1;31mParserError\u001b[0m: Error tokenizing data. C error: Expected 1 fields in line 3, saw 2\n"
     ]
    }
   ],
   "source": [
    "import os\n",
    "import pandas as pd\n",
    "\n",
    "def change_to_excel(input_file_path, output_folder):\n",
    "    df = pd.read_csv(input_file_path, encoding=\"utf-8\")\n",
    "    output_file_path = os.path.join(output_folder, os.path.basename(input_file_path)[:-4] + '.xlsx')\n",
    "    df.to_excel(output_file_path, index=False, sheet_name='Transactions')\n",
    "\n",
    "def process_excel_files(input_folder, output_folder):\n",
    "    if not os.path.exists(output_folder):\n",
    "        os.makedirs(output_folder)\n",
    "        \n",
    "    files = os.listdir(input_folder)\n",
    "    \n",
    "    for file in files:\n",
    "        if file.endswith('.csv'):\n",
    "            input_file_path = os.path.join(input_folder, file)\n",
    "            change_to_excel(input_file_path, output_folder)\n",
    "\n",
    "input_folder = r'C:\\Users\\Jerome Pintucan\\OneDrive - TRANSNATIONAL E-BUSINESS SOLUTIONS INC\\EASYCALL\\EASYCALL\\JUSTKITCHEN\\CHANGE TO CSV'\n",
    "output_folder = r'C:\\Users\\Jerome Pintucan\\OneDrive - TRANSNATIONAL E-BUSINESS SOLUTIONS INC\\EASYCALL\\EASYCALL\\JUSTKITCHEN\\CSV Converted to Excel'\n",
    "\n",
    "process_excel_files(input_folder, output_folder)\n"
   ]
  },
  {
   "cell_type": "code",
   "execution_count": 44,
   "metadata": {},
   "outputs": [
    {
     "name": "stdout",
     "output_type": "stream",
     "text": [
      "Processing C:\\Users\\Jerome Pintucan\\OneDrive - TRANSNATIONAL E-BUSINESS SOLUTIONS INC\\EASYCALL\\EASYCALL\\JUSTKITCHEN\\CHANGE TO CSV\\Transactions0101202401162024.csv...\n",
      "Error processing C:\\Users\\Jerome Pintucan\\OneDrive - TRANSNATIONAL E-BUSINESS SOLUTIONS INC\\EASYCALL\\EASYCALL\\JUSTKITCHEN\\CHANGE TO CSV\\Transactions0101202401162024.csv: Error tokenizing data. C error: Expected 1 fields in line 3, saw 2\n",
      "\n",
      "Processing C:\\Users\\Jerome Pintucan\\OneDrive - TRANSNATIONAL E-BUSINESS SOLUTIONS INC\\EASYCALL\\EASYCALL\\JUSTKITCHEN\\CHANGE TO CSV\\Transactions_01-01-2024_01-16-2024.csv...\n",
      "Error processing C:\\Users\\Jerome Pintucan\\OneDrive - TRANSNATIONAL E-BUSINESS SOLUTIONS INC\\EASYCALL\\EASYCALL\\JUSTKITCHEN\\CHANGE TO CSV\\Transactions_01-01-2024_01-16-2024.csv: Error tokenizing data. C error: Expected 1 fields in line 3, saw 2\n",
      "\n",
      "Processing C:\\Users\\Jerome Pintucan\\OneDrive - TRANSNATIONAL E-BUSINESS SOLUTIONS INC\\EASYCALL\\EASYCALL\\JUSTKITCHEN\\CHANGE TO CSV\\Transactions_01-17-2024_01-22-2024.csv...\n",
      "Converted C:\\Users\\Jerome Pintucan\\OneDrive - TRANSNATIONAL E-BUSINESS SOLUTIONS INC\\EASYCALL\\EASYCALL\\JUSTKITCHEN\\CHANGE TO CSV\\Transactions_01-17-2024_01-22-2024.csv to Excel successfully.\n",
      "Processing C:\\Users\\Jerome Pintucan\\OneDrive - TRANSNATIONAL E-BUSINESS SOLUTIONS INC\\EASYCALL\\EASYCALL\\JUSTKITCHEN\\CHANGE TO CSV\\Transactions_01-23-2024_01-23-2024.csv...\n",
      "Converted C:\\Users\\Jerome Pintucan\\OneDrive - TRANSNATIONAL E-BUSINESS SOLUTIONS INC\\EASYCALL\\EASYCALL\\JUSTKITCHEN\\CHANGE TO CSV\\Transactions_01-23-2024_01-23-2024.csv to Excel successfully.\n",
      "Processing C:\\Users\\Jerome Pintucan\\OneDrive - TRANSNATIONAL E-BUSINESS SOLUTIONS INC\\EASYCALL\\EASYCALL\\JUSTKITCHEN\\CHANGE TO CSV\\Transactions_01-24-2024_01-24-2024.csv...\n",
      "Converted C:\\Users\\Jerome Pintucan\\OneDrive - TRANSNATIONAL E-BUSINESS SOLUTIONS INC\\EASYCALL\\EASYCALL\\JUSTKITCHEN\\CHANGE TO CSV\\Transactions_01-24-2024_01-24-2024.csv to Excel successfully.\n",
      "Processing C:\\Users\\Jerome Pintucan\\OneDrive - TRANSNATIONAL E-BUSINESS SOLUTIONS INC\\EASYCALL\\EASYCALL\\JUSTKITCHEN\\CHANGE TO CSV\\Transactions_01-25-2024_01-26-2024.csv...\n",
      "Converted C:\\Users\\Jerome Pintucan\\OneDrive - TRANSNATIONAL E-BUSINESS SOLUTIONS INC\\EASYCALL\\EASYCALL\\JUSTKITCHEN\\CHANGE TO CSV\\Transactions_01-25-2024_01-26-2024.csv to Excel successfully.\n",
      "Processing C:\\Users\\Jerome Pintucan\\OneDrive - TRANSNATIONAL E-BUSINESS SOLUTIONS INC\\EASYCALL\\EASYCALL\\JUSTKITCHEN\\CHANGE TO CSV\\Transactions_01-27-2024_01-27-2024.csv...\n",
      "Converted C:\\Users\\Jerome Pintucan\\OneDrive - TRANSNATIONAL E-BUSINESS SOLUTIONS INC\\EASYCALL\\EASYCALL\\JUSTKITCHEN\\CHANGE TO CSV\\Transactions_01-27-2024_01-27-2024.csv to Excel successfully.\n",
      "Processing C:\\Users\\Jerome Pintucan\\OneDrive - TRANSNATIONAL E-BUSINESS SOLUTIONS INC\\EASYCALL\\EASYCALL\\JUSTKITCHEN\\CHANGE TO CSV\\Transactions_01-28-2024_01-31-2024.csv...\n",
      "Converted C:\\Users\\Jerome Pintucan\\OneDrive - TRANSNATIONAL E-BUSINESS SOLUTIONS INC\\EASYCALL\\EASYCALL\\JUSTKITCHEN\\CHANGE TO CSV\\Transactions_01-28-2024_01-31-2024.csv to Excel successfully.\n",
      "Processing C:\\Users\\Jerome Pintucan\\OneDrive - TRANSNATIONAL E-BUSINESS SOLUTIONS INC\\EASYCALL\\EASYCALL\\JUSTKITCHEN\\CHANGE TO CSV\\Transactions_02-01-2024_02-05-2024.csv...\n",
      "Converted C:\\Users\\Jerome Pintucan\\OneDrive - TRANSNATIONAL E-BUSINESS SOLUTIONS INC\\EASYCALL\\EASYCALL\\JUSTKITCHEN\\CHANGE TO CSV\\Transactions_02-01-2024_02-05-2024.csv to Excel successfully.\n",
      "Processing C:\\Users\\Jerome Pintucan\\OneDrive - TRANSNATIONAL E-BUSINESS SOLUTIONS INC\\EASYCALL\\EASYCALL\\JUSTKITCHEN\\CHANGE TO CSV\\Transactions_06-01-2023_06-30-2023.csv...\n",
      "Converted C:\\Users\\Jerome Pintucan\\OneDrive - TRANSNATIONAL E-BUSINESS SOLUTIONS INC\\EASYCALL\\EASYCALL\\JUSTKITCHEN\\CHANGE TO CSV\\Transactions_06-01-2023_06-30-2023.csv to Excel successfully.\n",
      "Processing C:\\Users\\Jerome Pintucan\\OneDrive - TRANSNATIONAL E-BUSINESS SOLUTIONS INC\\EASYCALL\\EASYCALL\\JUSTKITCHEN\\CHANGE TO CSV\\Transactions_07-01-2023_07-31-2023.csv...\n",
      "Converted C:\\Users\\Jerome Pintucan\\OneDrive - TRANSNATIONAL E-BUSINESS SOLUTIONS INC\\EASYCALL\\EASYCALL\\JUSTKITCHEN\\CHANGE TO CSV\\Transactions_07-01-2023_07-31-2023.csv to Excel successfully.\n",
      "Processing C:\\Users\\Jerome Pintucan\\OneDrive - TRANSNATIONAL E-BUSINESS SOLUTIONS INC\\EASYCALL\\EASYCALL\\JUSTKITCHEN\\CHANGE TO CSV\\Transactions_08-01-2023_08-31-2023.csv...\n",
      "Converted C:\\Users\\Jerome Pintucan\\OneDrive - TRANSNATIONAL E-BUSINESS SOLUTIONS INC\\EASYCALL\\EASYCALL\\JUSTKITCHEN\\CHANGE TO CSV\\Transactions_08-01-2023_08-31-2023.csv to Excel successfully.\n",
      "Processing C:\\Users\\Jerome Pintucan\\OneDrive - TRANSNATIONAL E-BUSINESS SOLUTIONS INC\\EASYCALL\\EASYCALL\\JUSTKITCHEN\\CHANGE TO CSV\\Transactions_09-01-2023_09-30-2023.csv...\n",
      "Converted C:\\Users\\Jerome Pintucan\\OneDrive - TRANSNATIONAL E-BUSINESS SOLUTIONS INC\\EASYCALL\\EASYCALL\\JUSTKITCHEN\\CHANGE TO CSV\\Transactions_09-01-2023_09-30-2023.csv to Excel successfully.\n",
      "Processing C:\\Users\\Jerome Pintucan\\OneDrive - TRANSNATIONAL E-BUSINESS SOLUTIONS INC\\EASYCALL\\EASYCALL\\JUSTKITCHEN\\CHANGE TO CSV\\Transactions_10-01-2023_10-31-2023.csv...\n",
      "Converted C:\\Users\\Jerome Pintucan\\OneDrive - TRANSNATIONAL E-BUSINESS SOLUTIONS INC\\EASYCALL\\EASYCALL\\JUSTKITCHEN\\CHANGE TO CSV\\Transactions_10-01-2023_10-31-2023.csv to Excel successfully.\n",
      "Processing C:\\Users\\Jerome Pintucan\\OneDrive - TRANSNATIONAL E-BUSINESS SOLUTIONS INC\\EASYCALL\\EASYCALL\\JUSTKITCHEN\\CHANGE TO CSV\\Transactions_11-01-2023_11-30-2023.csv...\n",
      "Converted C:\\Users\\Jerome Pintucan\\OneDrive - TRANSNATIONAL E-BUSINESS SOLUTIONS INC\\EASYCALL\\EASYCALL\\JUSTKITCHEN\\CHANGE TO CSV\\Transactions_11-01-2023_11-30-2023.csv to Excel successfully.\n",
      "Processing C:\\Users\\Jerome Pintucan\\OneDrive - TRANSNATIONAL E-BUSINESS SOLUTIONS INC\\EASYCALL\\EASYCALL\\JUSTKITCHEN\\CHANGE TO CSV\\Transactions_12-01-2023_12-26-2023.csv...\n",
      "Converted C:\\Users\\Jerome Pintucan\\OneDrive - TRANSNATIONAL E-BUSINESS SOLUTIONS INC\\EASYCALL\\EASYCALL\\JUSTKITCHEN\\CHANGE TO CSV\\Transactions_12-01-2023_12-26-2023.csv to Excel successfully.\n",
      "Processing C:\\Users\\Jerome Pintucan\\OneDrive - TRANSNATIONAL E-BUSINESS SOLUTIONS INC\\EASYCALL\\EASYCALL\\JUSTKITCHEN\\CHANGE TO CSV\\Transactions_12-27-2023_12-31-2023.csv...\n",
      "Error processing C:\\Users\\Jerome Pintucan\\OneDrive - TRANSNATIONAL E-BUSINESS SOLUTIONS INC\\EASYCALL\\EASYCALL\\JUSTKITCHEN\\CHANGE TO CSV\\Transactions_12-27-2023_12-31-2023.csv: Error tokenizing data. C error: Expected 1 fields in line 3, saw 2\n",
      "\n"
     ]
    }
   ],
   "source": [
    "import os\n",
    "import pandas as pd\n",
    "\n",
    "def change_to_excel(input_file_path, output_folder):\n",
    "    try:\n",
    "        df = pd.read_csv(input_file_path, encoding=\"utf-8\")\n",
    "        output_file_path = os.path.join(output_folder, os.path.basename(input_file_path)[:-4] + '.xlsx')\n",
    "        df.to_excel(output_file_path, index=False, sheet_name='Transactions')\n",
    "        print(f\"Converted {input_file_path} to Excel successfully.\")\n",
    "    except Exception as e:\n",
    "        print(f\"Error processing {input_file_path}: {str(e)}\")\n",
    "\n",
    "def process_excel_files(input_folder, output_folder):\n",
    "    if not os.path.exists(output_folder):\n",
    "        os.makedirs(output_folder)\n",
    "        \n",
    "    files = os.listdir(input_folder)\n",
    "    \n",
    "    for file in files:\n",
    "        if file.endswith('.csv'):\n",
    "            input_file_path = os.path.join(input_folder, file)\n",
    "            print(f\"Processing {input_file_path}...\")\n",
    "            change_to_excel(input_file_path, output_folder)\n",
    "\n",
    "input_folder = r'C:\\Users\\Jerome Pintucan\\OneDrive - TRANSNATIONAL E-BUSINESS SOLUTIONS INC\\EASYCALL\\EASYCALL\\JUSTKITCHEN\\CHANGE TO CSV'\n",
    "output_folder = r'C:\\Users\\Jerome Pintucan\\OneDrive - TRANSNATIONAL E-BUSINESS SOLUTIONS INC\\EASYCALL\\EASYCALL\\JUSTKITCHEN\\CSV Converted to Excel'\n",
    "\n",
    "process_excel_files(input_folder, output_folder)\n"
   ]
  },
  {
   "cell_type": "code",
   "execution_count": null,
   "metadata": {},
   "outputs": [],
   "source": []
  }
 ],
 "metadata": {
  "kernelspec": {
   "display_name": "Python 3",
   "language": "python",
   "name": "python3"
  },
  "language_info": {
   "codemirror_mode": {
    "name": "ipython",
    "version": 3
   },
   "file_extension": ".py",
   "mimetype": "text/x-python",
   "name": "python",
   "nbconvert_exporter": "python",
   "pygments_lexer": "ipython3",
   "version": "3.11.4"
  }
 },
 "nbformat": 4,
 "nbformat_minor": 2
}
